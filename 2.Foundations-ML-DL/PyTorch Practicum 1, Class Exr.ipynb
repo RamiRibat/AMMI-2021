{
 "cells": [
  {
   "cell_type": "code",
   "execution_count": 1,
   "metadata": {},
   "outputs": [],
   "source": [
    "import numpy as np\n",
    "import torch as th"
   ]
  },
  {
   "cell_type": "code",
   "execution_count": 2,
   "metadata": {},
   "outputs": [],
   "source": [
    "# th.*Tensor?"
   ]
  },
  {
   "cell_type": "code",
   "execution_count": 3,
   "metadata": {},
   "outputs": [],
   "source": [
    "def describe(x):\n",
    "    print(f'Type: {x.type()}')\n",
    "    print('---'*15)\n",
    "    print(f'Shape/Size: {x.shape}')\n",
    "    print('---'*15)\n",
    "    print(f'Value(s): \\n{x}')\n",
    "    "
   ]
  },
  {
   "cell_type": "markdown",
   "metadata": {},
   "source": [
    "## Exercises"
   ]
  },
  {
   "cell_type": "markdown",
   "metadata": {},
   "source": [
    "### Exercise 1"
   ]
  },
  {
   "cell_type": "code",
   "execution_count": 4,
   "metadata": {},
   "outputs": [
    {
     "name": "stdout",
     "output_type": "stream",
     "text": [
      "torch.Size([3, 4])\n",
      "torch.Size([1, 3, 4])\n"
     ]
    }
   ],
   "source": [
    "a = th.Tensor(3,4)\n",
    "print(a.shape)\n",
    "a = a.unsqueeze(0)\n",
    "print(a.shape)"
   ]
  },
  {
   "cell_type": "markdown",
   "metadata": {},
   "source": [
    "### Exercise 2"
   ]
  },
  {
   "cell_type": "code",
   "execution_count": 5,
   "metadata": {},
   "outputs": [
    {
     "name": "stdout",
     "output_type": "stream",
     "text": [
      "torch.Size([3, 4])\n"
     ]
    }
   ],
   "source": [
    "a = a.squeeze(0)\n",
    "print(a.shape)"
   ]
  },
  {
   "cell_type": "markdown",
   "metadata": {},
   "source": [
    "### Exercise 3"
   ]
  },
  {
   "cell_type": "code",
   "execution_count": 6,
   "metadata": {
    "scrolled": true
   },
   "outputs": [
    {
     "data": {
      "text/plain": [
       "tensor([[6, 3, 3],\n",
       "        [5, 3, 3],\n",
       "        [4, 3, 3],\n",
       "        [4, 6, 4],\n",
       "        [4, 5, 3]])"
      ]
     },
     "execution_count": 6,
     "metadata": {},
     "output_type": "execute_result"
    }
   ],
   "source": [
    "a = th.randint(3, 7, (5,3))\n",
    "a"
   ]
  },
  {
   "cell_type": "code",
   "execution_count": 7,
   "metadata": {},
   "outputs": [
    {
     "data": {
      "text/plain": [
       "tensor([[3.0421, 4.6878, 6.8575],\n",
       "        [5.1329, 5.9672, 5.1757],\n",
       "        [6.6468, 4.4138, 3.8348],\n",
       "        [3.9982, 5.0403, 4.3018],\n",
       "        [4.1897, 4.5923, 6.9837]])"
      ]
     },
     "execution_count": 7,
     "metadata": {},
     "output_type": "execute_result"
    }
   ],
   "source": [
    "a = 3 + th.rand(5,3) * 4\n",
    "a"
   ]
  },
  {
   "cell_type": "markdown",
   "metadata": {},
   "source": [
    "### Exercise 4"
   ]
  },
  {
   "cell_type": "code",
   "execution_count": 8,
   "metadata": {},
   "outputs": [
    {
     "data": {
      "text/plain": [
       "tensor([[-1.7052, -0.5609],\n",
       "        [-0.4670,  0.3018]])"
      ]
     },
     "execution_count": 8,
     "metadata": {},
     "output_type": "execute_result"
    }
   ],
   "source": [
    "a = th.randn(2,2)\n",
    "a"
   ]
  },
  {
   "cell_type": "code",
   "execution_count": 9,
   "metadata": {},
   "outputs": [
    {
     "data": {
      "text/plain": [
       "tensor([[ 0.9306,  1.5165],\n",
       "        [-1.7169, -0.4907]])"
      ]
     },
     "execution_count": 9,
     "metadata": {},
     "output_type": "execute_result"
    }
   ],
   "source": [
    "a = th.rand(2,2).normal_(mean=0, std=1)\n",
    "a"
   ]
  },
  {
   "cell_type": "markdown",
   "metadata": {},
   "source": [
    "### Exercise 5"
   ]
  },
  {
   "cell_type": "code",
   "execution_count": 10,
   "metadata": {},
   "outputs": [
    {
     "data": {
      "text/plain": [
       "tensor([1., 1., 1., 0., 1.])"
      ]
     },
     "execution_count": 10,
     "metadata": {},
     "output_type": "execute_result"
    }
   ],
   "source": [
    "a = th.Tensor([1,1,1,0,1])\n",
    "a"
   ]
  },
  {
   "cell_type": "code",
   "execution_count": 16,
   "metadata": {},
   "outputs": [
    {
     "data": {
      "text/plain": [
       "tensor([[0, 0],\n",
       "        [1, 0],\n",
       "        [2, 0]])"
      ]
     },
     "execution_count": 16,
     "metadata": {},
     "output_type": "execute_result"
    }
   ],
   "source": [
    "a.nonzero()"
   ]
  },
  {
   "cell_type": "code",
   "execution_count": 17,
   "metadata": {},
   "outputs": [
    {
     "data": {
      "text/plain": [
       "tensor([[0, 0],\n",
       "        [1, 0],\n",
       "        [2, 0]])"
      ]
     },
     "execution_count": 17,
     "metadata": {},
     "output_type": "execute_result"
    }
   ],
   "source": [
    "th.nonzero(a)"
   ]
  },
  {
   "cell_type": "markdown",
   "metadata": {},
   "source": [
    "### Exercise 6"
   ]
  },
  {
   "cell_type": "code",
   "execution_count": 18,
   "metadata": {},
   "outputs": [
    {
     "data": {
      "text/plain": [
       "tensor([[0.8361],\n",
       "        [0.3739],\n",
       "        [0.0293]])"
      ]
     },
     "execution_count": 18,
     "metadata": {},
     "output_type": "execute_result"
    }
   ],
   "source": [
    "a = th.rand(3, 1)\n",
    "a"
   ]
  },
  {
   "cell_type": "code",
   "execution_count": 19,
   "metadata": {},
   "outputs": [
    {
     "data": {
      "text/plain": [
       "tensor([[[0.8361],\n",
       "         [0.3739],\n",
       "         [0.0293]],\n",
       "\n",
       "        [[0.8361],\n",
       "         [0.3739],\n",
       "         [0.0293]],\n",
       "\n",
       "        [[0.8361],\n",
       "         [0.3739],\n",
       "         [0.0293]],\n",
       "\n",
       "        [[0.8361],\n",
       "         [0.3739],\n",
       "         [0.0293]]])"
      ]
     },
     "execution_count": 19,
     "metadata": {},
     "output_type": "execute_result"
    }
   ],
   "source": [
    "b = th.stack([a,a,a,a])\n",
    "b"
   ]
  },
  {
   "cell_type": "code",
   "execution_count": 20,
   "metadata": {},
   "outputs": [],
   "source": [
    "A = a.repeat([1,4])"
   ]
  },
  {
   "cell_type": "markdown",
   "metadata": {},
   "source": [
    "### Exercise 7"
   ]
  },
  {
   "cell_type": "code",
   "execution_count": 21,
   "metadata": {},
   "outputs": [
    {
     "data": {
      "text/plain": [
       "<function _VariableFunctionsClass.bmm>"
      ]
     },
     "execution_count": 21,
     "metadata": {},
     "output_type": "execute_result"
    }
   ],
   "source": [
    "th.bmm"
   ]
  },
  {
   "cell_type": "code",
   "execution_count": 22,
   "metadata": {},
   "outputs": [],
   "source": [
    "a = th.rand(3,4,5)\n",
    "b = th.rand(3,5,4)"
   ]
  },
  {
   "cell_type": "code",
   "execution_count": 23,
   "metadata": {},
   "outputs": [
    {
     "data": {
      "text/plain": [
       "tensor([[[1.8829, 1.9549, 1.3053, 1.2827],\n",
       "         [1.4019, 1.4913, 0.7618, 0.9260],\n",
       "         [1.2153, 0.9994, 0.9075, 0.9491],\n",
       "         [1.9864, 1.5028, 1.5840, 1.4000]],\n",
       "\n",
       "        [[1.8970, 1.5124, 1.7846, 2.3433],\n",
       "         [1.4513, 1.3860, 1.4616, 1.9243],\n",
       "         [1.4422, 1.0738, 1.5023, 1.5575],\n",
       "         [1.7868, 1.2880, 1.3900, 2.4317]],\n",
       "\n",
       "        [[1.0360, 1.5095, 1.6134, 1.1576],\n",
       "         [0.3973, 0.5701, 0.8370, 0.4952],\n",
       "         [0.7052, 0.9042, 1.7659, 1.0184],\n",
       "         [1.0613, 1.3870, 2.1742, 1.5322]]])"
      ]
     },
     "execution_count": 23,
     "metadata": {},
     "output_type": "execute_result"
    }
   ],
   "source": [
    "th.bmm(a, b)"
   ]
  },
  {
   "cell_type": "markdown",
   "metadata": {},
   "source": [
    "### Excersie 8"
   ]
  },
  {
   "cell_type": "code",
   "execution_count": 24,
   "metadata": {},
   "outputs": [
    {
     "data": {
      "text/plain": [
       "tensor([[9.6599e-01, 7.8518e-01, 4.2743e-01, 8.5940e-01],\n",
       "        [7.8828e-01, 9.0564e-01, 8.3990e-01, 6.2655e-01],\n",
       "        [7.8321e-01, 5.8768e-01, 1.7625e-04, 2.8555e-01],\n",
       "        [5.4471e-01, 6.6151e-01, 3.3440e-01, 9.1981e-01],\n",
       "        [5.6630e-01, 3.3750e-01, 7.9485e-01, 7.1079e-01]])"
      ]
     },
     "execution_count": 24,
     "metadata": {},
     "output_type": "execute_result"
    }
   ],
   "source": [
    "a = th.rand(3,4,5)\n",
    "b = th.rand(5,4)\n",
    "b"
   ]
  },
  {
   "cell_type": "code",
   "execution_count": 25,
   "metadata": {},
   "outputs": [
    {
     "data": {
      "text/plain": [
       "tensor([[[9.6599e-01, 7.8518e-01, 4.2743e-01, 8.5940e-01],\n",
       "         [7.8828e-01, 9.0564e-01, 8.3990e-01, 6.2655e-01],\n",
       "         [7.8321e-01, 5.8768e-01, 1.7625e-04, 2.8555e-01],\n",
       "         [5.4471e-01, 6.6151e-01, 3.3440e-01, 9.1981e-01],\n",
       "         [5.6630e-01, 3.3750e-01, 7.9485e-01, 7.1079e-01]],\n",
       "\n",
       "        [[9.6599e-01, 7.8518e-01, 4.2743e-01, 8.5940e-01],\n",
       "         [7.8828e-01, 9.0564e-01, 8.3990e-01, 6.2655e-01],\n",
       "         [7.8321e-01, 5.8768e-01, 1.7625e-04, 2.8555e-01],\n",
       "         [5.4471e-01, 6.6151e-01, 3.3440e-01, 9.1981e-01],\n",
       "         [5.6630e-01, 3.3750e-01, 7.9485e-01, 7.1079e-01]],\n",
       "\n",
       "        [[9.6599e-01, 7.8518e-01, 4.2743e-01, 8.5940e-01],\n",
       "         [7.8828e-01, 9.0564e-01, 8.3990e-01, 6.2655e-01],\n",
       "         [7.8321e-01, 5.8768e-01, 1.7625e-04, 2.8555e-01],\n",
       "         [5.4471e-01, 6.6151e-01, 3.3440e-01, 9.1981e-01],\n",
       "         [5.6630e-01, 3.3750e-01, 7.9485e-01, 7.1079e-01]]])"
      ]
     },
     "execution_count": 25,
     "metadata": {},
     "output_type": "execute_result"
    }
   ],
   "source": [
    "b = b.expand([3,5,4])\n",
    "b"
   ]
  },
  {
   "cell_type": "code",
   "execution_count": 26,
   "metadata": {},
   "outputs": [
    {
     "data": {
      "text/plain": [
       "tensor([[[2.7356, 2.5761, 1.8123, 2.5351],\n",
       "         [2.3317, 2.0892, 1.2887, 1.9173],\n",
       "         [2.1267, 1.7333, 1.2061, 1.9011],\n",
       "         [2.0775, 1.9967, 1.2591, 1.7998]],\n",
       "\n",
       "        [[2.6090, 2.4335, 1.7244, 2.4674],\n",
       "         [1.9080, 1.8943, 1.2773, 1.9382],\n",
       "         [1.0907, 1.0082, 0.7855, 1.3060],\n",
       "         [1.8355, 1.5568, 0.8499, 1.3314]],\n",
       "\n",
       "        [[1.3889, 1.1852, 0.9879, 1.1967],\n",
       "         [1.4873, 1.2068, 1.2782, 1.4116],\n",
       "         [1.1377, 1.0762, 0.7829, 0.9884],\n",
       "         [1.4304, 1.2901, 0.7798, 1.2164]]])"
      ]
     },
     "execution_count": 26,
     "metadata": {},
     "output_type": "execute_result"
    }
   ],
   "source": [
    "th.bmm(a, b)"
   ]
  },
  {
   "cell_type": "code",
   "execution_count": null,
   "metadata": {},
   "outputs": [],
   "source": []
  }
 ],
 "metadata": {
  "kernelspec": {
   "display_name": "Python 3",
   "language": "python",
   "name": "python3"
  },
  "language_info": {
   "codemirror_mode": {
    "name": "ipython",
    "version": 3
   },
   "file_extension": ".py",
   "mimetype": "text/x-python",
   "name": "python",
   "nbconvert_exporter": "python",
   "pygments_lexer": "ipython3",
   "version": "3.8.5"
  }
 },
 "nbformat": 4,
 "nbformat_minor": 4
}
